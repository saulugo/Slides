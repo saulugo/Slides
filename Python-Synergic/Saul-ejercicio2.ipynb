{
 "cells": [
  {
   "cell_type": "code",
   "execution_count": 2,
   "metadata": {
    "collapsed": false
   },
   "outputs": [],
   "source": [
    "def check_404(file_name):\n",
    "    #reading the log file\n",
    "    try:\n",
    "        f = open(file_name, 'r')\n",
    "    except IOError:\n",
    "        print 'Error reading the file or the file does not exist!'\n",
    "        return\n",
    "\n",
    "    lines = f.readlines()\n",
    "    print 'The file has %i lines.\\n' % (len(lines))\n",
    "\n",
    "    for i in range(len(lines)):\n",
    "        line = lines[i].split('\\t')\n",
    "        if '404' in line:\n",
    "            print '%s' % (line[4]) #print the position 4 of the list in which the name of the file requested is stored\n",
    "    f.close()"
   ]
  },
  {
   "cell_type": "code",
   "execution_count": 7,
   "metadata": {
    "collapsed": false
   },
   "outputs": [
    {
     "name": "stdout",
     "output_type": "stream",
     "text": [
      "Error reading the file or the file does not exist!\n"
     ]
    }
   ],
   "source": [
    "check_404('logs')"
   ]
  },
  {
   "cell_type": "code",
   "execution_count": 8,
   "metadata": {
    "collapsed": false
   },
   "outputs": [],
   "source": [
    "def check_dotcom(file_name):\n",
    "    #reading the log file\n",
    "    try:\n",
    "        f = open(file_name, 'r')\n",
    "    except IOError:\n",
    "        print 'Error reading the file or the file does not exist!'\n",
    "        return\n",
    "    \n",
    "    lines = f.readlines()\n",
    "    print 'The file has %i lines.\\n' % (len(lines))\n",
    "    \n",
    "    count_total = 0\n",
    "    count_unique = 0\n",
    "    dotcom_addresses = []\n",
    "    dotcom_addresses_unique = []\n",
    "    \n",
    "    for i in range(len(lines)):\n",
    "        line = lines[i].split('\\t')\n",
    "        \n",
    "        if line[0].endswith('.com'):\n",
    "            if line[0] not in dotcom_addresses: \n",
    "                dotcom_addresses_unique.append(line[0])\n",
    "                count_unique += 1\n",
    "                \n",
    "            dotcom_addresses.append(line[0])\n",
    "            count_total += 1\n",
    "    \n",
    "    print 'There are {} total requests from .com addresses from {} unique ones!\\n'.format(count_total,count_unique)\n",
    "    \n",
    "    for i in range(len(dotcom_addresses_unique)):\n",
    "            print '{}'.format(dotcom_addresses_unique[i])\n",
    "\n",
    "    f.close()"
   ]
  },
  {
   "cell_type": "code",
   "execution_count": 11,
   "metadata": {
    "collapsed": false
   },
   "outputs": [
    {
     "name": "stdout",
     "output_type": "stream",
     "text": [
      "The file has 999 lines.\n",
      "\n",
      "There are 450 total requests from .com addresses from 65 unique ones!\n",
      "\n",
      "burger.letters.com\n",
      "net-1-141.eden.com\n",
      "alyssa.prodigy.com\n",
      "dial22.lloyd.com\n",
      "smyth-pc.moorecap.com\n",
      "ix-orl2-01.ix.netcom.com\n",
      "piweba3y.prodigy.com\n",
      "ppp-nyc-3-1.ios.com\n",
      "port26.annex2.nwlink.com\n",
      "dd14-012.compuserve.com\n",
      "www-a1.proxy.aol.com\n",
      "dd15-062.compuserve.com\n",
      "www-b4.proxy.aol.com\n",
      "slip1.yab.com\n",
      "ix-or10-06.ix.netcom.com\n",
      "dave.dev1.ihub.com\n",
      "pm13.j51.com\n",
      "dd14-046.compuserve.com\n",
      "port2.electrotex.com\n",
      "lmsmith.tezcat.com\n",
      "pme607.onramp.awinc.com\n",
      "brandt.xensei.com\n",
      "sneaker.oregoncoast.com\n",
      "dd11-054.compuserve.com\n",
      "charger.execpc.com\n",
      "pipe6.nyc.pipeline.com\n",
      "isdn6-34.dnai.com\n",
      "midcom.com\n",
      "bos1d.delphi.com\n",
      "ix-ftw-tx1-24.ix.netcom.com\n",
      "news.ti.com\n",
      "ix-war-mi1-20.ix.netcom.com\n",
      "savvy1.savvy.com\n",
      "ad03-031.compuserve.com\n",
      "ix-sd11-26.ix.netcom.com\n",
      "slip132.indirect.com\n",
      "slip4068.sirius.com\n",
      "mars.ark.com\n",
      "ad12-051.compuserve.com\n",
      "ix-wbg-va2-26.ix.netcom.com\n",
      "asp.erinet.com\n",
      "www-proxy.crl.research.digital.com\n",
      "ppp4.sunrem.com\n",
      "slip1.kias.com\n",
      "ix-li3-23.ix.netcom.com\n",
      "ix-dfw13-20.ix.netcom.com\n",
      "corp-uu.infoseek.com\n",
      "www-d3.proxy.aol.com\n",
      "ix-tam1-26.ix.netcom.com\n",
      "ad11-010.compuserve.com\n",
      "piweba1y.prodigy.com\n",
      "leet.cts.com\n",
      "ppp111.cs.mci.com\n",
      "www-b2.proxy.aol.com\n",
      "blv-pm0-ip28.halcyon.com\n",
      "temprano.netheaven.com\n",
      "boing.dgsys.com\n",
      "slip-5.io.com\n",
      "ip155.tmn.com\n",
      "shrspine.rapidramp.com\n",
      "ix-dc10-19.ix.netcom.com\n",
      "port2.cia.com\n",
      "net-1-217.eden.com\n",
      "whlane.cts.com\n",
      "ppp24.swcp.com\n"
     ]
    }
   ],
   "source": [
    "check_dotcom('logs')"
   ]
  }
 ],
 "metadata": {
  "kernelspec": {
   "display_name": "Python 2",
   "language": "python",
   "name": "python2"
  },
  "language_info": {
   "codemirror_mode": {
    "name": "ipython",
    "version": 2
   },
   "file_extension": ".py",
   "mimetype": "text/x-python",
   "name": "python",
   "nbconvert_exporter": "python",
   "pygments_lexer": "ipython2",
   "version": "2.7.11"
  }
 },
 "nbformat": 4,
 "nbformat_minor": 0
}
