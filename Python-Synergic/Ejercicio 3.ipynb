{
 "cells": [
  {
   "cell_type": "markdown",
   "metadata": {
    "collapsed": true
   },
   "source": [
    "* Descargar el quijote completo en un fichero de text ([link](http://latel.upf.edu/traductica/scp/quijote/quijote.txt))\n",
    "* Procesar el texto, tomando nota de que palabra o palabras pueden encontrarse a continuación de cada palabra (ej. \"la\" -> \"mancha\"). Almacenarlo en una estructura de datos adecuada.\n",
    "* Elegir una palabra al azar del texto, y encadenarla con una de las posibles palabras que la siguen.\n",
    "* Encadenar un buen número de palabras e imprimir el resultado por pantalla."
   ]
  },
  {
   "cell_type": "code",
   "execution_count": 54,
   "metadata": {
    "collapsed": false
   },
   "outputs": [
    {
     "name": "stdout",
     "output_type": "stream",
     "text": [
      "me d� a su ventura porque de todo amistad vuestra merced se�or florismarte replic� sancho no lo estorbase la rienda a parte �luego conoc�stela t� a quien yo de cobardes cuanto dentro estaban en paz as� por estos disparates y cast�galos muy maltrecho aquel instante esperar a don quijote has de esa es menester que con m�s que lo que andamos buscando vuestra merced que le parec�an a �l mand� en las tienes dellos aunque de una punta pareci� que yo a �l le hicieron su punto la mano y a hip�critas hermosuras no fue grande como quiera que vuestra\n"
     ]
    }
   ],
   "source": [
    "from random import choice\n",
    "\n",
    "def build_my_dictionary(f): #f is the file pointer\n",
    "    \n",
    "    words = f.read()\n",
    "    \n",
    "    #cleaning the text - eliminating punctuation and transforming to lowercase\n",
    "    words = words.replace(',','').replace(';','').replace('.','').replace('(','').replace(')','')\n",
    "    words = words.replace('{','').replace('}','').replace('[','').replace(']','')\n",
    "    words = words.replace('!','').replace('!','').replace('?','').replace('¿','').replace(':','')\n",
    "    words = words.lower()\n",
    "    \n",
    "    words = words.split()\n",
    "    \n",
    "    d = {}\n",
    "    \n",
    "    for i in range(len(words)):\n",
    "        if not words[i] in d.keys():\n",
    "            if i < len(words)-1:\n",
    "                d[words[i]] = [words[i+1]]\n",
    "            else:\n",
    "                d[words[i]] = [words[0]]\n",
    "        else:\n",
    "            if i < len(words)-1:\n",
    "                d[words[i]].append(words[i+1])\n",
    "                \n",
    "        \n",
    "    return d, words\n",
    "\n",
    "def write_new_book(book, n_words = 1000):\n",
    "    'using the words of the book stored in \"book\", writes a new book with n_words total of words'\n",
    "    try:\n",
    "        with open(book,'r') as myfile:\n",
    "            d, words = build_my_dictionary(myfile)\n",
    "    except IOError:\n",
    "        print 'Error reading the file containing the book or the file does not exist!'\n",
    "        return\n",
    "    \n",
    "    new_book_list = []\n",
    "    \n",
    "    i = 0\n",
    "    while i < n_words:\n",
    "            if i == 0:\n",
    "                new_book_list.append(choice(words))\n",
    "            else:\n",
    "                new_book_list.append(choice(d[new_book_list[i-1]]))\n",
    "            i += 1\n",
    "    \n",
    "    return ' '.join(new_book_list)\n",
    "\n",
    "\n",
    "new_book = write_new_book('quijote.txt',100)\n",
    "print new_book\n",
    "\n",
    "    \n",
    "    \n",
    "    "
   ]
  }
 ],
 "metadata": {
  "kernelspec": {
   "display_name": "Python 2",
   "language": "python",
   "name": "python2"
  },
  "language_info": {
   "codemirror_mode": {
    "name": "ipython",
    "version": 2
   },
   "file_extension": ".py",
   "mimetype": "text/x-python",
   "name": "python",
   "nbconvert_exporter": "python",
   "pygments_lexer": "ipython2",
   "version": "2.7.11"
  }
 },
 "nbformat": 4,
 "nbformat_minor": 2
}
